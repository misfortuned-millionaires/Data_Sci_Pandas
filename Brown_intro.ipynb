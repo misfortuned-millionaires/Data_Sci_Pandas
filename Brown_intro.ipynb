{
 "cells": [
  {
   "cell_type": "markdown",
   "id": "4a79099a-56aa-4be6-9feb-251e359d5e8d",
   "metadata": {},
   "source": [
    "# Don`s Notebook"
   ]
  },
  {
   "cell_type": "markdown",
   "id": "d24bb750-040c-4dfb-8a8d-1f393a33af86",
   "metadata": {},
   "source": [
    "## Donovan Brown"
   ]
  },
  {
   "cell_type": "code",
   "execution_count": 2,
   "id": "523d7780-4bc6-4938-8a5d-16a8951684d4",
   "metadata": {},
   "outputs": [],
   "source": [
    "import random"
   ]
  },
  {
   "cell_type": "code",
   "execution_count": 6,
   "id": "981388bd-624d-4474-8bf7-eda9a8a1415f",
   "metadata": {},
   "outputs": [
    {
     "name": "stdout",
     "output_type": "stream",
     "text": [
      "[44, 63, 65, 85, 72, 45, 38, 40, 37, 73, 54, 93, 52, 85, 42, 58, 35, 85, 72, 83, 89, 58, 35, 58, 63, 93, 55, 71, 72, 71, 93, 77, 69, 58, 48, 95, 71, 50, 34]\n"
     ]
    }
   ],
   "source": [
    "nums = [random.randrange(30,100) for i in range(39)]\n",
    "print(nums)\n"
   ]
  },
  {
   "cell_type": "code",
   "execution_count": 8,
   "id": "fdab7809-0fc2-4d65-8ba2-64341dd2d064",
   "metadata": {},
   "outputs": [
    {
     "name": "stdout",
     "output_type": "stream",
     "text": [
      "34 35 35 37 38 40 42 44 45 48 50 52 54 55 58 58 58 58 63 63 65 69 71 71 71 72 72 72 73 77 83 85 85 85 89 93 93 93 95\n"
     ]
    }
   ],
   "source": [
    "nums.sort()\n",
    "print(*nums)"
   ]
  },
  {
   "cell_type": "markdown",
   "id": "0e894edb-3a92-40ad-9537-60d53ba284a3",
   "metadata": {},
   "source": [
    "## The Sample Mean\n",
    "- To find the sample mean you would add up the **(sum of any terms)** and divide the total by the **(number of terms)** & you can use python functions **(sum)** to find sum of values and **(len)** to find the number of values. \n"
   ]
  },
  {
   "cell_type": "markdown",
   "id": "5af89dcf-1d7a-4231-99dd-97aa4521981a",
   "metadata": {},
   "source": [
    "$$\\overline{x} = \\frac{\\sum x_i}{n}$$"
   ]
  },
  {
   "cell_type": "code",
   "execution_count": 20,
   "id": "6e16ff51-ce35-4a4d-959c-d3b6ab33cfdb",
   "metadata": {},
   "outputs": [
    {
     "name": "stdout",
     "output_type": "stream",
     "text": [
      "63.62\n"
     ]
    }
   ],
   "source": [
    "def average(nums):\n",
    "    return sum(nums) / len(nums)\n",
    "average = average(nums)\n",
    "print(f\"{average:.2f}\")"
   ]
  },
  {
   "cell_type": "markdown",
   "id": "aae22dd6-bc1e-46b3-8b0a-a5c865442cb9",
   "metadata": {},
   "source": [
    "## The Median\n",
    "[Statistical Median Definition](https://www.techtarget.com/searchdatacenter/definition/statistical-mean-median-mode-and-range)"
   ]
  },
  {
   "cell_type": "code",
   "execution_count": 34,
   "id": "47a9746d-0c69-4415-92ed-58bfacef6501",
   "metadata": {},
   "outputs": [
    {
     "name": "stdout",
     "output_type": "stream",
     "text": [
      "63.0\n"
     ]
    }
   ],
   "source": [
    "# If you need to calculate the mean but there is an equal number of values\n",
    "# you will add the two numbers (in the middle) and divide the total by 2.\n",
    "\n",
    "def list_median(nums):\n",
    "    nums.sort()\n",
    "    n = len(nums)\n",
    "    middle = n // 2\n",
    "\n",
    "    if n % 2 == 0:\n",
    "        return (nums[ middle - 1] + nums[middle]) / 2\n",
    "    else:\n",
    "        return nums[middle]\n",
    "\n",
    "median = list_median(nums)\n",
    "print(f\"{median:.1f}\")\n",
    "\n"
   ]
  }
 ],
 "metadata": {
  "kernelspec": {
   "display_name": "Python 3 (ipykernel)",
   "language": "python",
   "name": "python3"
  },
  "language_info": {
   "codemirror_mode": {
    "name": "ipython",
    "version": 3
   },
   "file_extension": ".py",
   "mimetype": "text/x-python",
   "name": "python",
   "nbconvert_exporter": "python",
   "pygments_lexer": "ipython3",
   "version": "3.11.7"
  }
 },
 "nbformat": 4,
 "nbformat_minor": 5
}
